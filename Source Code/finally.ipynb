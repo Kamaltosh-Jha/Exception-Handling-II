{
 "cells": [
  {
   "cell_type": "code",
   "execution_count": 2,
   "metadata": {},
   "outputs": [],
   "source": [
    "def group(a, b) -> None:\n",
    "    try:\n",
    "        c = ((a + b) / (a - b))\n",
    "    except ZeroDivisionError:\n",
    "        print(\"This results in infinity\")\n",
    "    else:\n",
    "        print(c)\n",
    "    finally:\n",
    "        print(\"this part is always executed\")"
   ]
  },
  {
   "cell_type": "code",
   "execution_count": 3,
   "metadata": {},
   "outputs": [
    {
     "name": "stdout",
     "output_type": "stream",
     "text": [
      "-5.0\n",
      "this part is always executed\n"
     ]
    }
   ],
   "source": [
    "group(2.0, 3.0)"
   ]
  },
  {
   "cell_type": "code",
   "execution_count": 4,
   "metadata": {},
   "outputs": [
    {
     "name": "stdout",
     "output_type": "stream",
     "text": [
      "This results in infinity\n",
      "this part is always executed\n"
     ]
    }
   ],
   "source": [
    "group(3.0, 3.0)"
   ]
  }
 ],
 "metadata": {
  "kernelspec": {
   "display_name": "Python 3",
   "language": "python",
   "name": "python3"
  },
  "language_info": {
   "codemirror_mode": {
    "name": "ipython",
    "version": 3
   },
   "file_extension": ".py",
   "mimetype": "text/x-python",
   "name": "python",
   "nbconvert_exporter": "python",
   "pygments_lexer": "ipython3",
   "version": "3.11.4"
  }
 },
 "nbformat": 4,
 "nbformat_minor": 2
}
