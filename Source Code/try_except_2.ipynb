{
 "cells": [
  {
   "cell_type": "code",
   "execution_count": 1,
   "metadata": {},
   "outputs": [
    {
     "name": "stdout",
     "output_type": "stream",
     "text": [
      "File exists\n",
      "Hello Everyone, I am a File\n"
     ]
    }
   ],
   "source": [
    "try:\n",
    "    file = open('myfile.txt')\n",
    "    print('File exists')\n",
    "    print(file.readline())\n",
    "\n",
    "except FileNotFoundError:\n",
    "    print('File does not exist')\n",
    "    \n",
    "except Exception:\n",
    "    print('An error occurred')"
   ]
  },
  {
   "cell_type": "code",
   "execution_count": 2,
   "metadata": {},
   "outputs": [
    {
     "name": "stdout",
     "output_type": "stream",
     "text": [
      "File does not exist\n"
     ]
    }
   ],
   "source": [
    "try:\n",
    "    file = open('yourfile.txt')\n",
    "    print('File exists')\n",
    "    print(file.readline())\n",
    "\n",
    "except FileNotFoundError:\n",
    "    print('File does not exist')\n",
    "    \n",
    "except Exception:\n",
    "    print('An error occurred')"
   ]
  },
  {
   "cell_type": "code",
   "execution_count": null,
   "metadata": {},
   "outputs": [],
   "source": []
  }
 ],
 "metadata": {
  "kernelspec": {
   "display_name": "Python 3",
   "language": "python",
   "name": "python3"
  },
  "language_info": {
   "codemirror_mode": {
    "name": "ipython",
    "version": 3
   },
   "file_extension": ".py",
   "mimetype": "text/x-python",
   "name": "python",
   "nbconvert_exporter": "python",
   "pygments_lexer": "ipython3",
   "version": "3.11.4"
  }
 },
 "nbformat": 4,
 "nbformat_minor": 2
}
